{
 "cells": [
  {
   "cell_type": "code",
   "execution_count": 2,
   "id": "852faa5f",
   "metadata": {},
   "outputs": [
    {
     "name": "stdout",
     "output_type": "stream",
     "text": [
      "                                       message  rule_score   ml_prob  \\\n",
      "0    Free gift! Click here to claim your prize         0.6  0.782913   \n",
      "1      Hi John, the meeting is at 3pm tomorrow         0.0  0.322181   \n",
      "2      URGENT: update your payment details now         1.0  0.751030   \n",
      "3      Your invoice is attached, please review         0.0  0.349578   \n",
      "4  Click here to verify your account and login         1.0  0.782913   \n",
      "\n",
      "   final_score  predicted_label  label  \n",
      "0     0.673165                1      1  \n",
      "1     0.128872                0      0  \n",
      "2     0.900412                1      1  \n",
      "3     0.139831                0      0  \n",
      "4     0.913165                1      1  \n"
     ]
    }
   ],
   "source": [
    "import re\n",
    "import pandas as pd\n",
    "from sklearn.feature_extraction.text import TfidfVectorizer\n",
    "from sklearn.naive_bayes import MultinomialNB\n",
    "from sklearn.pipeline import Pipeline\n",
    "\n",
    "# --- Sample dataset ---\n",
    "data = {\n",
    "    \"message\": [\n",
    "        \"Free gift! Click here to claim your prize\",\n",
    "        \"Hi John, the meeting is at 3pm tomorrow\",\n",
    "        \"URGENT: update your payment details now\",\n",
    "        \"Your invoice is attached, please review\",\n",
    "        \"Click here to verify your account and login\",\n",
    "    ],\n",
    "    \"spf\": [\"pass\", \"pass\", \"fail\", \"pass\", \"fail\"],  # header info\n",
    "    \"label\": [1, 0, 1, 0, 1]  # 1 = spam, 0 = ham\n",
    "}\n",
    "\n",
    "df = pd.DataFrame(data)\n",
    "\n",
    "# --- Rule engine using pandas ---\n",
    "def compute_rule_score(row):\n",
    "    score = 0.0\n",
    "    text = row[\"message\"].lower()\n",
    "\n",
    "    # Rule 1: bad phrases\n",
    "    bad_phrases = [\"verify your account\", \"click here\", \"act now\", \"free gift\", \"update your payment\"]\n",
    "    if any(p in text for p in bad_phrases):\n",
    "        score += 0.6\n",
    "\n",
    "    # Rule 2: suspicious URL (IP address in link)\n",
    "    if re.search(r'http[s]?://\\d+\\.\\d+\\.\\d+\\.\\d+', text):\n",
    "        score += 0.8\n",
    "\n",
    "    # Rule 3: SPF failed\n",
    "    if row[\"spf\"] == \"fail\":\n",
    "        score += 0.7\n",
    "\n",
    "    return min(1.0, score)\n",
    "\n",
    "df[\"rule_score\"] = df.apply(compute_rule_score, axis=1)\n",
    "\n",
    "# --- ML model (TF-IDF + Naive Bayes) ---\n",
    "clf = Pipeline([\n",
    "    (\"tfidf\", TfidfVectorizer(ngram_range=(1,2), min_df=1)),\n",
    "    (\"nb\", MultinomialNB())\n",
    "])\n",
    "clf.fit(df[\"message\"], df[\"label\"])\n",
    "\n",
    "# --- Predict with both ML + rules ---\n",
    "df[\"ml_prob\"] = clf.predict_proba(df[\"message\"])[:, 1]\n",
    "\n",
    "# Weighted combination\n",
    "w_rule, w_ml = 0.6, 0.4\n",
    "df[\"final_score\"] = w_rule * df[\"rule_score\"] + w_ml * df[\"ml_prob\"]\n",
    "\n",
    "# --- Classification based on threshold ---\n",
    "df[\"predicted_label\"] = (df[\"final_score\"] >= 0.6).astype(int)\n",
    "\n",
    "print(df[[\"message\", \"rule_score\", \"ml_prob\", \"final_score\", \"predicted_label\", \"label\"]])\n"
   ]
  }
 ],
 "metadata": {
  "kernelspec": {
   "display_name": "myenv",
   "language": "python",
   "name": "python3"
  },
  "language_info": {
   "codemirror_mode": {
    "name": "ipython",
    "version": 3
   },
   "file_extension": ".py",
   "mimetype": "text/x-python",
   "name": "python",
   "nbconvert_exporter": "python",
   "pygments_lexer": "ipython3",
   "version": "3.12.11"
  }
 },
 "nbformat": 4,
 "nbformat_minor": 5
}
